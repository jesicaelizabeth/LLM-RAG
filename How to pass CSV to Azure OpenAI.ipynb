{
 "cells": [
  {
   "cell_type": "markdown",
   "id": "d43d2efa",
   "metadata": {},
   "source": [
    "# How to let OpenAI read your CSV"
   ]
  },
  {
   "cell_type": "code",
   "execution_count": 2,
   "id": "2d9f76ad",
   "metadata": {},
   "outputs": [],
   "source": [
    "import pandas as pd\n",
    "df= pd.read_csv(\"username.csv\",delimiter=\";\")"
   ]
  },
  {
   "cell_type": "code",
   "execution_count": 9,
   "id": "bfa7b58f",
   "metadata": {},
   "outputs": [
    {
     "data": {
      "text/plain": [
       "[{'Username': 'booker12',\n",
       "  ' Identifier': 9012,\n",
       "  'First name': 'Rachel',\n",
       "  'Last name': 'Booker'},\n",
       " {'Username': 'grey07',\n",
       "  ' Identifier': 2070,\n",
       "  'First name': 'Laura',\n",
       "  'Last name': 'Grey'},\n",
       " {'Username': 'johnson81',\n",
       "  ' Identifier': 4081,\n",
       "  'First name': 'Craig',\n",
       "  'Last name': 'Johnson'},\n",
       " {'Username': 'jenkins46',\n",
       "  ' Identifier': 9346,\n",
       "  'First name': 'Mary',\n",
       "  'Last name': 'Jenkins'},\n",
       " {'Username': 'smith79',\n",
       "  ' Identifier': 5079,\n",
       "  'First name': 'Jamie',\n",
       "  'Last name': 'Smith'}]"
      ]
     },
     "execution_count": 9,
     "metadata": {},
     "output_type": "execute_result"
    }
   ],
   "source": [
    "df.to_dict(\"records\")"
   ]
  },
  {
   "cell_type": "markdown",
   "id": "b5e2537e",
   "metadata": {},
   "source": [
    "# Example 1 : Put the CSV Dictionary to the system content"
   ]
  },
  {
   "cell_type": "code",
   "execution_count": 11,
   "id": "4253ddee",
   "metadata": {},
   "outputs": [
    {
     "name": "stdout",
     "output_type": "stream",
     "text": [
      "You are an AI assistant that helps people find information.\n",
      "Help me to find information from the dictionary below\n",
      "[{'Username': 'booker12', ' Identifier': 9012, 'First name': 'Rachel', 'Last name': 'Booker'}, {'Username': 'grey07', ' Identifier': 2070, 'First name': 'Laura', 'Last name': 'Grey'}, {'Username': 'johnson81', ' Identifier': 4081, 'First name': 'Craig', 'Last name': 'Johnson'}, {'Username': 'jenkins46', ' Identifier': 9346, 'First name': 'Mary', 'Last name': 'Jenkins'}, {'Username': 'smith79', ' Identifier': 5079, 'First name': 'Jamie', 'Last name': 'Smith'}]\n"
     ]
    }
   ],
   "source": [
    "command= \"\"\"You are an AI assistant that helps people find information.\n",
    "Help me to find information from the dictionary below\"\"\"\n",
    "\n",
    "data = str(df.to_dict(\"records\"))\n",
    "\n",
    "print(command+\"\\n\"+data)"
   ]
  },
  {
   "cell_type": "code",
   "execution_count": 29,
   "id": "9fa0aee1",
   "metadata": {},
   "outputs": [],
   "source": [
    "user_question=\"What is Mary Jenkins Username?\""
   ]
  },
  {
   "cell_type": "code",
   "execution_count": 30,
   "id": "cabfff0b",
   "metadata": {},
   "outputs": [
    {
     "data": {
      "text/plain": [
       "[{'role': 'system',\n",
       "  'content': \"You are an AI assistant that helps people find information.\\nHelp me to find information from the dictionary provided\\n[{'Username': 'booker12', ' Identifier': 9012, 'First name': 'Rachel', 'Last name': 'Booker'}, {'Username': 'grey07', ' Identifier': 2070, 'First name': 'Laura', 'Last name': 'Grey'}, {'Username': 'johnson81', ' Identifier': 4081, 'First name': 'Craig', 'Last name': 'Johnson'}, {'Username': 'jenkins46', ' Identifier': 9346, 'First name': 'Mary', 'Last name': 'Jenkins'}, {'Username': 'smith79', ' Identifier': 5079, 'First name': 'Jamie', 'Last name': 'Smith'}]\"},\n",
       " {'role': 'user', 'content': 'What is Mary Jenkins Username?'}]"
      ]
     },
     "execution_count": 30,
     "metadata": {},
     "output_type": "execute_result"
    }
   ],
   "source": [
    "prompt=[{\"role\":\"system\",\"content\":command+\"\\n\"+data},{\"role\":\"user\",\"content\":user_question}]\n",
    "prompt"
   ]
  },
  {
   "cell_type": "code",
   "execution_count": null,
   "id": "5c12c108",
   "metadata": {},
   "outputs": [],
   "source": [
    "#Note: The openai-python library support for Azure OpenAI is in preview.\n",
    "import os\n",
    "import openai\n",
    "openai.api_type = openai.api_type\n",
    "openai.api_base = openai.api_base\n",
    "openai.api_version = openai.api_version\n",
    "openai.api_key =openai.api_key\n",
    "\n",
    "response = openai.ChatCompletion.create(\n",
    "  engine=model_name, #Change engine to \"ChatVD1500\" to use GPT 3.5\n",
    "  messages = prompt,\n",
    "  temperature=1,\n",
    "  max_tokens=400,\n",
    "  top_p=0.95,\n",
    "  frequency_penalty=0,\n",
    "  presence_penalty=0,\n",
    "  stop=None)"
   ]
  },
  {
   "cell_type": "code",
   "execution_count": 18,
   "id": "c31dc611",
   "metadata": {},
   "outputs": [
    {
     "data": {
      "text/plain": [
       "<OpenAIObject chat.completion id=chatcmpl-74nbGjm32uiVpWTzN8R7xgqaDxDYt at 0x1ba63342e50> JSON: {\n",
       "  \"choices\": [\n",
       "    {\n",
       "      \"finish_reason\": \"stop\",\n",
       "      \"index\": 0,\n",
       "      \"message\": {\n",
       "        \"content\": \"Mary Jenkins' Username is 'jenkins46'.\",\n",
       "        \"role\": \"assistant\"\n",
       "      }\n",
       "    }\n",
       "  ],\n",
       "  \"created\": 1681378330,\n",
       "  \"id\": \"chatcmpl-74nbGjm32uiVpWTzN8R7xgqaDxDYt\",\n",
       "  \"model\": \"gpt-4\",\n",
       "  \"object\": \"chat.completion\",\n",
       "  \"usage\": {\n",
       "    \"completion_tokens\": 11,\n",
       "    \"prompt_tokens\": 184,\n",
       "    \"total_tokens\": 195\n",
       "  }\n",
       "}"
      ]
     },
     "execution_count": 18,
     "metadata": {},
     "output_type": "execute_result"
    }
   ],
   "source": [
    "response"
   ]
  },
  {
   "cell_type": "code",
   "execution_count": 19,
   "id": "fd616511",
   "metadata": {},
   "outputs": [
    {
     "data": {
      "text/plain": [
       "\"Mary Jenkins' Username is 'jenkins46'.\""
      ]
     },
     "execution_count": 19,
     "metadata": {},
     "output_type": "execute_result"
    }
   ],
   "source": [
    "response[\"choices\"][0][\"message\"][\"content\"]"
   ]
  },
  {
   "cell_type": "code",
   "execution_count": null,
   "id": "fadb2e71",
   "metadata": {},
   "outputs": [],
   "source": []
  },
  {
   "cell_type": "markdown",
   "id": "bc30d701",
   "metadata": {},
   "source": [
    "# Example 2 : Put the CSV Dictionary together with user query"
   ]
  },
  {
   "cell_type": "code",
   "execution_count": 20,
   "id": "b5efe392",
   "metadata": {},
   "outputs": [
    {
     "name": "stdout",
     "output_type": "stream",
     "text": [
      "You are an AI assistant that helps people find information.\n",
      "Help me to find information from the dictionary provided\n"
     ]
    }
   ],
   "source": [
    "command= \"\"\"You are an AI assistant that helps people find information.\n",
    "Help me to find information from the dictionary provided\"\"\"\n",
    "\n",
    "print(command)"
   ]
  },
  {
   "cell_type": "code",
   "execution_count": 21,
   "id": "1fa62400",
   "metadata": {},
   "outputs": [
    {
     "data": {
      "text/plain": [
       "\"[{'Username': 'booker12', ' Identifier': 9012, 'First name': 'Rachel', 'Last name': 'Booker'}, {'Username': 'grey07', ' Identifier': 2070, 'First name': 'Laura', 'Last name': 'Grey'}, {'Username': 'johnson81', ' Identifier': 4081, 'First name': 'Craig', 'Last name': 'Johnson'}, {'Username': 'jenkins46', ' Identifier': 9346, 'First name': 'Mary', 'Last name': 'Jenkins'}, {'Username': 'smith79', ' Identifier': 5079, 'First name': 'Jamie', 'Last name': 'Smith'}]\""
      ]
     },
     "execution_count": 21,
     "metadata": {},
     "output_type": "execute_result"
    }
   ],
   "source": [
    "data = str(df.to_dict(\"records\"))\n",
    "data"
   ]
  },
  {
   "cell_type": "code",
   "execution_count": 27,
   "id": "b04a82fa",
   "metadata": {},
   "outputs": [],
   "source": [
    "user_question=\"What is Mary Jenkins Username?\""
   ]
  },
  {
   "cell_type": "code",
   "execution_count": 28,
   "id": "d8f229ee",
   "metadata": {},
   "outputs": [
    {
     "data": {
      "text/plain": [
       "[{'role': 'system',\n",
       "  'content': 'You are an AI assistant that helps people find information.\\nHelp me to find information from the dictionary provided'},\n",
       " {'role': 'user',\n",
       "  'content': \"What is Mary Jenkins Username?\\n\\n[{'Username': 'booker12', ' Identifier': 9012, 'First name': 'Rachel', 'Last name': 'Booker'}, {'Username': 'grey07', ' Identifier': 2070, 'First name': 'Laura', 'Last name': 'Grey'}, {'Username': 'johnson81', ' Identifier': 4081, 'First name': 'Craig', 'Last name': 'Johnson'}, {'Username': 'jenkins46', ' Identifier': 9346, 'First name': 'Mary', 'Last name': 'Jenkins'}, {'Username': 'smith79', ' Identifier': 5079, 'First name': 'Jamie', 'Last name': 'Smith'}]\"}]"
      ]
     },
     "execution_count": 28,
     "metadata": {},
     "output_type": "execute_result"
    }
   ],
   "source": [
    "\n",
    "prompt=[{\"role\":\"system\",\"content\":command},{\"role\":\"user\",\"content\":user_question+\"\\n\\n\"+data}]\n",
    "prompt"
   ]
  },
  {
   "cell_type": "code",
   "execution_count": null,
   "id": "66e2e2e9",
   "metadata": {},
   "outputs": [],
   "source": [
    "response = openai.ChatCompletion.create(\n",
    "  engine=model_name, #Change engine to \"ChatVD1500\" to use GPT 3.5\n",
    "  messages = prompt,\n",
    "  temperature=1,\n",
    "  max_tokens=400,\n",
    "  top_p=0.95,\n",
    "  frequency_penalty=0,\n",
    "  presence_penalty=0,\n",
    "  stop=None)"
   ]
  },
  {
   "cell_type": "code",
   "execution_count": 24,
   "id": "3212bd84",
   "metadata": {},
   "outputs": [
    {
     "data": {
      "text/plain": [
       "<OpenAIObject chat.completion id=chatcmpl-74neYP8QTw0uLRTWc6mz79RXN9w3T at 0x1ba526acb30> JSON: {\n",
       "  \"choices\": [\n",
       "    {\n",
       "      \"finish_reason\": \"stop\",\n",
       "      \"index\": 0,\n",
       "      \"message\": {\n",
       "        \"content\": \"Mary Jenkins' Username is 'jenkins46'.\",\n",
       "        \"role\": \"assistant\"\n",
       "      }\n",
       "    }\n",
       "  ],\n",
       "  \"created\": 1681378534,\n",
       "  \"id\": \"chatcmpl-74neYP8QTw0uLRTWc6mz79RXN9w3T\",\n",
       "  \"model\": \"gpt-4\",\n",
       "  \"object\": \"chat.completion\",\n",
       "  \"usage\": {\n",
       "    \"completion_tokens\": 11,\n",
       "    \"prompt_tokens\": 183,\n",
       "    \"total_tokens\": 194\n",
       "  }\n",
       "}"
      ]
     },
     "execution_count": 24,
     "metadata": {},
     "output_type": "execute_result"
    }
   ],
   "source": [
    "response"
   ]
  },
  {
   "cell_type": "code",
   "execution_count": 25,
   "id": "862db6c7",
   "metadata": {},
   "outputs": [
    {
     "data": {
      "text/plain": [
       "\"Mary Jenkins' Username is 'jenkins46'.\""
      ]
     },
     "execution_count": 25,
     "metadata": {},
     "output_type": "execute_result"
    }
   ],
   "source": [
    "response[\"choices\"][0][\"message\"][\"content\"]"
   ]
  },
  {
   "cell_type": "markdown",
   "id": "0ab4b090",
   "metadata": {},
   "source": [
    "# Example 3: Giving the OpenAI clue how it should answer"
   ]
  },
  {
   "cell_type": "code",
   "execution_count": 31,
   "id": "e59de25b",
   "metadata": {},
   "outputs": [
    {
     "name": "stdout",
     "output_type": "stream",
     "text": [
      "You are an AI assistant that helps people find information.\n",
      "Help me to find information from the dictionary below\n",
      "[{'Username': 'booker12', ' Identifier': 9012, 'First name': 'Rachel', 'Last name': 'Booker'}, {'Username': 'grey07', ' Identifier': 2070, 'First name': 'Laura', 'Last name': 'Grey'}, {'Username': 'johnson81', ' Identifier': 4081, 'First name': 'Craig', 'Last name': 'Johnson'}, {'Username': 'jenkins46', ' Identifier': 9346, 'First name': 'Mary', 'Last name': 'Jenkins'}, {'Username': 'smith79', ' Identifier': 5079, 'First name': 'Jamie', 'Last name': 'Smith'}]\n"
     ]
    }
   ],
   "source": [
    "command= \"\"\"You are an AI assistant that helps people find information.\n",
    "Help me to find information from the dictionary below\"\"\"\n",
    "\n",
    "data = str(df.to_dict(\"records\"))\n",
    "\n",
    "print(command+\"\\n\"+data)"
   ]
  },
  {
   "cell_type": "code",
   "execution_count": 36,
   "id": "68929f01",
   "metadata": {},
   "outputs": [],
   "source": [
    "question_examples=\"\"\"What is Craig Johnson user name?\"\"\"\n",
    "bot_answer_examples=\"\"\"you have been requesting username for...\\nFirst Name: Craig\\nLast Name:Johnson\\nUsername: johnson81\"\"\""
   ]
  },
  {
   "cell_type": "code",
   "execution_count": 43,
   "id": "f43dbe23",
   "metadata": {},
   "outputs": [
    {
     "name": "stdout",
     "output_type": "stream",
     "text": [
      "you have been requesting username for...\n",
      "First Name: Craig\n",
      "Last Name:Johnson\n",
      "Username: johnson81\n"
     ]
    }
   ],
   "source": [
    "print(bot_answer_examples)"
   ]
  },
  {
   "cell_type": "code",
   "execution_count": 38,
   "id": "d84b6c8b",
   "metadata": {},
   "outputs": [
    {
     "data": {
      "text/plain": [
       "[{'role': 'system',\n",
       "  'content': \"You are an AI assistant that helps people find information.\\nHelp me to find information from the dictionary below\\n[{'Username': 'booker12', ' Identifier': 9012, 'First name': 'Rachel', 'Last name': 'Booker'}, {'Username': 'grey07', ' Identifier': 2070, 'First name': 'Laura', 'Last name': 'Grey'}, {'Username': 'johnson81', ' Identifier': 4081, 'First name': 'Craig', 'Last name': 'Johnson'}, {'Username': 'jenkins46', ' Identifier': 9346, 'First name': 'Mary', 'Last name': 'Jenkins'}, {'Username': 'smith79', ' Identifier': 5079, 'First name': 'Jamie', 'Last name': 'Smith'}]\"},\n",
       " {'role': 'user', 'content': 'What is Craig Johnson user name?'},\n",
       " {'role': 'assistant',\n",
       "  'content': 'you have been requesting username for...\\nFirst Name: Craig\\nLast Name:Johnson\\nUsername: johnson81'},\n",
       " {'role': 'user', 'content': 'What is Mary Jenkins Username?'}]"
      ]
     },
     "execution_count": 38,
     "metadata": {},
     "output_type": "execute_result"
    }
   ],
   "source": [
    "\n",
    "prompt=[{\"role\":\"system\",\"content\":command+\"\\n\"+data},{\"role\":\"user\",\"content\":question_examples},{\"role\":\"assistant\",\"content\":bot_answer_examples},{\"role\":\"user\",\"content\":user_question}]\n",
    "prompt"
   ]
  },
  {
   "cell_type": "code",
   "execution_count": 39,
   "id": "731898ef",
   "metadata": {},
   "outputs": [],
   "source": [
    "response = openai.ChatCompletion.create(\n",
    "  engine=\"GPT48kVD1500\", #Change engine to \"ChatVD1500\" to use GPT 3.5\n",
    "  messages = prompt,\n",
    "  temperature=1,\n",
    "  max_tokens=400,\n",
    "  top_p=0.95,\n",
    "  frequency_penalty=0,\n",
    "  presence_penalty=0,\n",
    "  stop=None)"
   ]
  },
  {
   "cell_type": "code",
   "execution_count": 40,
   "id": "f3cab402",
   "metadata": {},
   "outputs": [
    {
     "data": {
      "text/plain": [
       "<OpenAIObject chat.completion id=chatcmpl-74oLLlWQiXdAbiyk7vZrXjvNOuM50 at 0x1ba63343540> JSON: {\n",
       "  \"choices\": [\n",
       "    {\n",
       "      \"finish_reason\": \"stop\",\n",
       "      \"index\": 0,\n",
       "      \"message\": {\n",
       "        \"content\": \"You have been requesting username for...\\nFirst Name: Mary\\nLast Name: Jenkins\\nUsername: jenkins46\",\n",
       "        \"role\": \"assistant\"\n",
       "      }\n",
       "    }\n",
       "  ],\n",
       "  \"created\": 1681381187,\n",
       "  \"id\": \"chatcmpl-74oLLlWQiXdAbiyk7vZrXjvNOuM50\",\n",
       "  \"model\": \"gpt-4\",\n",
       "  \"object\": \"chat.completion\",\n",
       "  \"usage\": {\n",
       "    \"completion_tokens\": 23,\n",
       "    \"prompt_tokens\": 221,\n",
       "    \"total_tokens\": 244\n",
       "  }\n",
       "}"
      ]
     },
     "execution_count": 40,
     "metadata": {},
     "output_type": "execute_result"
    }
   ],
   "source": [
    "response"
   ]
  },
  {
   "cell_type": "code",
   "execution_count": 42,
   "id": "4ac8e370",
   "metadata": {},
   "outputs": [
    {
     "name": "stdout",
     "output_type": "stream",
     "text": [
      "You have been requesting username for...\n",
      "First Name: Mary\n",
      "Last Name: Jenkins\n",
      "Username: jenkins46\n"
     ]
    }
   ],
   "source": [
    "print(response[\"choices\"][0][\"message\"][\"content\"])"
   ]
  },
  {
   "cell_type": "code",
   "execution_count": null,
   "id": "0c561d7e",
   "metadata": {},
   "outputs": [],
   "source": []
  }
 ],
 "metadata": {
  "kernelspec": {
   "display_name": "Python 3 (ipykernel)",
   "language": "python",
   "name": "python3"
  },
  "language_info": {
   "codemirror_mode": {
    "name": "ipython",
    "version": 3
   },
   "file_extension": ".py",
   "mimetype": "text/x-python",
   "name": "python",
   "nbconvert_exporter": "python",
   "pygments_lexer": "ipython3",
   "version": "3.9.16"
  }
 },
 "nbformat": 4,
 "nbformat_minor": 5
}
